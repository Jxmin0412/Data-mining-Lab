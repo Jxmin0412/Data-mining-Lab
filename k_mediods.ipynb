{
 "cells": [
  {
   "cell_type": "markdown",
   "metadata": {},
   "source": [
    "### Aim: K-Means & Mediods  Clustering on Iris Dataset\n",
    "\n",
    "#### Dataset: Iris\n",
    "The Iris dataset includes measurements of 150 iris flowers from three species.\n",
    "\n",
    "#### Objective\n",
    "We aim to apply K-Means clustering to identify clusters based on flower measurements. As K-Means is unsupervised, we won't use the provided species labels. The clustering effectiveness will be evaluated by comparing our clusters to the actual species labels."
   ]
  },
  {
   "cell_type": "code",
   "execution_count": null,
   "metadata": {},
   "outputs": [],
   "source": [
    "! pip install scikit-learn\n",
    "! pip install pandas\n",
    "! pip install matplotlib\n",
    "! pip install scikit-learn-extra"
   ]
  },
  {
   "cell_type": "markdown",
   "metadata": {},
   "source": [
    "#### Import in the iris dataset from the sklearn.datasets module.\n",
    "```\n",
    "from sklearn.datasets import load_iris\n",
    "iris = load_iris()\n",
    "```\n",
    "#### Create a dataframes\n",
    "```\n",
    "X -> iris.data\n",
    "\n",
    "```"
   ]
  },
  {
   "cell_type": "code",
   "execution_count": null,
   "metadata": {},
   "outputs": [],
   "source": [
    "from sklearn.datasets import load_iris\n",
    "import pandas as pd\n",
    "\n",
    "iris = load_iris()\n",
    "data = pd.DataFrame(iris.data, columns=iris.feature_names)\n",
    "X = iris.data\n",
    "data.head(200)"
   ]
  },
  {
   "cell_type": "code",
   "execution_count": null,
   "metadata": {},
   "outputs": [],
   "source": [
    "import matplotlib.pyplot as plt\n",
    "\n",
    "plt.scatter(X[:, 0], X[:, 1], cmap='viridis', edgecolors='k')\n",
    "plt.title('Visualization of Iris Dataset (2D)')\n",
    "plt.xlabel('Feature 1')\n",
    "plt.ylabel('Feature 2')\n",
    "plt.show()"
   ]
  },
  {
   "cell_type": "code",
   "execution_count": null,
   "metadata": {},
   "outputs": [],
   "source": [
    "from sklearn.cluster import KMeans\n",
    "from sklearn_extra.cluster import KMedoids\n",
    "\n",
    "k = 4  \n",
    "kmeans = KMeans(n_clusters=k, random_state=42)\n",
    "kmeans.fit(X)\n",
    "\n",
    "\n"
   ]
  },
  {
   "cell_type": "code",
   "execution_count": null,
   "metadata": {},
   "outputs": [],
   "source": [
    "cluster_assignments = kmeans.labels_\n",
    "cluster_centers = kmeans.cluster_centers_"
   ]
  },
  {
   "cell_type": "code",
   "execution_count": null,
   "metadata": {},
   "outputs": [],
   "source": [
    "plt.scatter(X[:, 0], X[:, 1], c=cluster_assignments, cmap='viridis', edgecolors='k')\n",
    "plt.scatter(cluster_centers[:, 0], cluster_centers[:, 1], c='red', marker='X', s=200, label='Cluster Centers')\n",
    "plt.title('K-means Clustering of Iris Dataset (2D)')\n",
    "plt.xlabel('Feature 1')\n",
    "plt.ylabel('Feature 2')\n",
    "plt.legend()\n",
    "plt.show()"
   ]
  },
  {
   "cell_type": "markdown",
   "metadata": {},
   "source": [
    "Extra Stuff\n",
    "\n",
    "| Parameter                   | Description                                          |\n",
    "|-----------------------------|------------------------------------------------------|\n",
    "| `X[:, 0], X[:, 1]`          | Coordinates of data points in the scatter plot.      |\n",
    "| `c=cluster_assignments`     | Colors of data points based on cluster assignments. |\n",
    "| `cmap='viridis'`             | Colormap used for coloring the data points.          |\n",
    "| `edgecolors='k'`             | Color of the edges of the markers in the plot.       |\n",
    "| `cluster_centers[:, 0], cluster_centers[:, 1]` | Coordinates of cluster centers.       |\n",
    "| `c='red'`                    | Color of the markers representing cluster centers.   |\n",
    "| `marker='X'`                 | Marker style for cluster centers (X for cross).      |\n",
    "| `s=200`                      | Size of the markers for cluster centers.              |\n",
    "| `label='Cluster Centers'`   | Label for the legend indicating cluster centers.     |\n"
   ]
  },
  {
   "cell_type": "code",
   "execution_count": null,
   "metadata": {},
   "outputs": [],
   "source": [
    "kmedoids = KMedoids(n_clusters=k, random_state=42)\n",
    "kmedoids.fit(X)\n",
    "\n",
    "# Get medoid assignments and medoid centers\n",
    "medoid_assignments = kmedoids.labels_\n",
    "medoid_centers = X[kmedoids.medoid_indices_, :]\n",
    "\n",
    "# Visualize the data in 2D (for simplicity, considering the first two features)\n",
    "plt.scatter(X[:, 0], X[:, 1], c=medoid_assignments, cmap='viridis', edgecolors='k')\n",
    "plt.scatter(medoid_centers[:, 0], medoid_centers[:, 1], c='red', marker='X', s=200, label='Medoids')\n",
    "plt.title('K-medoids Clustering of Iris Dataset (2D)')\n",
    "plt.xlabel('Feature 1')\n",
    "plt.ylabel('Feature 2')\n",
    "plt.legend()\n",
    "plt.show()"
   ]
  }
 ],
 "metadata": {
  "kernelspec": {
   "display_name": "Python 3",
   "language": "python",
   "name": "python3"
  },
  "language_info": {
   "codemirror_mode": {
    "name": "ipython",
    "version": 3
   },
   "file_extension": ".py",
   "mimetype": "text/x-python",
   "name": "python",
   "nbconvert_exporter": "python",
   "pygments_lexer": "ipython3",
   "version": "3.11.5"
  }
 },
 "nbformat": 4,
 "nbformat_minor": 2
}
