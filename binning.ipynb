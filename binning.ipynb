{
 "cells": [
  {
   "cell_type": "code",
   "execution_count": 19,
   "metadata": {},
   "outputs": [
    {
     "name": "stdout",
     "output_type": "stream",
     "text": [
      "[[4, 2], [7, 1], [9, 5]]\n",
      "[[3.0, 3.0], [4.0, 4.0], [7.0, 7.0]]\n",
      "[[4, 2], [7, 1], [9, 5]]\n",
      "[[4, 2], [7, 1], [9, 5]]\n",
      "[[4, 2], [7, 1], [9, 5]]\n"
     ]
    }
   ],
   "source": [
    "def create_bins(nums, binsize):\n",
    "    result = []\n",
    "    for i in range(0, len(nums), binsize):\n",
    "        result.append(nums[i:i+binsize])\n",
    "    return result\n",
    "\n",
    "\n",
    "def mean_smooth(bins) : \n",
    "    for b in bins : \n",
    "        avg=0\n",
    "        n=len(b) \n",
    "        for num in b: \n",
    "            avg+=num \n",
    "        avg=avg/n \n",
    "        for i in range(n): \n",
    "            b[i]=avg \n",
    "    print (bins)\n",
    "\n",
    "def median_smooth(bins) :\n",
    "    for b in bins :\n",
    "        n =len(b)\n",
    "        if n%2 == 0 :\n",
    "            median = (b[n//2] + b[n//2-1])/2\n",
    "        else :\n",
    "            median = b[n//2]\n",
    "        for i in range(n) :\n",
    "            b[i] = median\n",
    "    return bins\n",
    "\n",
    "def bound_smooth(bins) :\n",
    "    for b in bins :\n",
    "        n = len(b)\n",
    "        low = b[0]\n",
    "        high = b[n-1]\n",
    "        for i in range(n) :\n",
    "            if(b[i]-low) <= (high-b[i]) :\n",
    "                b[i] = low\n",
    "            else :\n",
    "                b[i] = high\n",
    "    return bins\n",
    "\n",
    "nums = [4, 2, 7, 1, 9, 5]\n",
    "binsize = 2\n",
    "result = create_bins(nums, binsize)\n",
    "print(result)\n",
    "\n",
    "\n",
    "mean_smooth(result) \n",
    "result=create_bins(nums,binsize) \n",
    "print(result) \n",
    "median_smooth(result) \n",
    "result=create_bins(nums,binsize) \n",
    "print(result) \n",
    "bound_smooth(result) \n",
    "result=create_bins(nums,binsize) \n",
    "print(result)\n"
   ]
  },
  {
   "cell_type": "code",
   "execution_count": null,
   "metadata": {},
   "outputs": [],
   "source": []
  },
  {
   "cell_type": "code",
   "execution_count": null,
   "metadata": {},
   "outputs": [],
   "source": []
  }
 ],
 "metadata": {
  "kernelspec": {
   "display_name": "Python 3",
   "language": "python",
   "name": "python3"
  },
  "language_info": {
   "codemirror_mode": {
    "name": "ipython",
    "version": 3
   },
   "file_extension": ".py",
   "mimetype": "text/x-python",
   "name": "python",
   "nbconvert_exporter": "python",
   "pygments_lexer": "ipython3",
   "version": "3.11.2"
  }
 },
 "nbformat": 4,
 "nbformat_minor": 2
}
